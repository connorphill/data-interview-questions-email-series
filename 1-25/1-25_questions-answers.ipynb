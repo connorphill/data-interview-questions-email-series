{
 "cells": [
  {
   "cell_type": "markdown",
   "metadata": {},
   "source": [
    "# Data Interview Questions (Email Series)"
   ]
  },
  {
   "cell_type": "markdown",
   "metadata": {},
   "source": [
    "## #1\n",
    "You are given a list of numbers J and a single number p. Write a function to return the minimum and maximum averages of the sequences of p numbers in the list J.\n",
    "\n",
    "For example:\n",
    "\n",
    "```\n",
    "# Array of numbers\n",
    "J = [4, 4, 4, 9, 10, 11, 12]\n",
    "# Length of sequences, p\n",
    "p = 3\n",
    "```\n",
    "Here, the sequences will be:\n",
    "\n",
    "\n",
    "* (4,4,4)\n",
    "* (4,4,9)\n",
    "* (4,9,10)\n",
    "* (9,10,11)\n",
    "* (10,11,12)\n",
    "From the above we can see that the minimum average will be 4 and the maximum average will be 11, which corresponds to the first and last sequences."
   ]
  },
  {
   "cell_type": "code",
   "execution_count": 40,
   "metadata": {},
   "outputs": [],
   "source": [
    "# Array of numbers\n",
    "J = [4, 4, 4, 9, 10, 11, 12]\n",
    "# Length of sequences, p\n",
    "p = 3"
   ]
  },
  {
   "cell_type": "code",
   "execution_count": 47,
   "metadata": {},
   "outputs": [],
   "source": [
    "# Answer\n",
    "\n",
    "avg_list = []\n",
    "def sequences(size, arr):\n",
    "    for i in range(0,5):\n",
    "        sequence = tuple(J[i:i+3])\n",
    "        sum = 0\n",
    "        for i in sequence:\n",
    "            sum = (sum + i)\n",
    "        avg = sum / len(sequence)\n",
    "        avg_list.append(avg)\n"
   ]
  },
  {
   "cell_type": "code",
   "execution_count": 48,
   "metadata": {},
   "outputs": [],
   "source": [
    "sequences(p, J)"
   ]
  },
  {
   "cell_type": "code",
   "execution_count": 51,
   "metadata": {},
   "outputs": [],
   "source": [
    "min_val = min(avg_list)\n",
    "max_val = max(avg_list)"
   ]
  },
  {
   "cell_type": "code",
   "execution_count": 52,
   "metadata": {},
   "outputs": [
    {
     "name": "stdout",
     "output_type": "stream",
     "text": [
      "4.0\n",
      "11.0\n"
     ]
    }
   ],
   "source": [
    "print(min_val)\n",
    "print(max_val)"
   ]
  },
  {
   "cell_type": "markdown",
   "metadata": {},
   "source": [
    "# #2\n",
    "\n",
    "Suppose we have selected a group of people to take a survey. 35% of the group like Uber, 20% like both Lyft and Uber, and 25% like neither Lyft nor Uber.\n",
    "\n",
    "Given this information, what percentage of the sample likes Lyft?\n",
    "\n",
    "Hint: You can use basic probability theory to solve this problem."
   ]
  },
  {
   "cell_type": "code",
   "execution_count": null,
   "metadata": {},
   "outputs": [],
   "source": []
  }
 ],
 "metadata": {
  "kernelspec": {
   "display_name": "Python 3",
   "language": "python",
   "name": "python3"
  },
  "language_info": {
   "codemirror_mode": {
    "name": "ipython",
    "version": 3
   },
   "file_extension": ".py",
   "mimetype": "text/x-python",
   "name": "python",
   "nbconvert_exporter": "python",
   "pygments_lexer": "ipython3",
   "version": "3.7.6"
  }
 },
 "nbformat": 4,
 "nbformat_minor": 4
}
